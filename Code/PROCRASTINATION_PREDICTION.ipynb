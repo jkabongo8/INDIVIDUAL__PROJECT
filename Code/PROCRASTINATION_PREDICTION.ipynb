{
 "cells": [
  {
   "cell_type": "markdown",
   "id": "a935e356",
   "metadata": {},
   "source": [
    "# Procrastination Prediction Project\n",
    "**Student:** Jacob Kabongo  \n",
    "**Course:** COMP3125 Data Science Fundamentals"
   ]
  },
  {
   "cell_type": "markdown",
   "id": "4589a831",
   "metadata": {},
   "source": [
    "## 1. Introduction\n",
    "Procrastination is a persistent challenge among students and significantly impacts academic performance and well-being. This project explores various contributing factors to procrastination, such as lack of motivation, poor time management, fear of failure, and distractions. The objective is to identify common causes and predict the likelihood of procrastination using machine learning techniques."
   ]
  },
  {
   "cell_type": "markdown",
   "id": "164c13c7",
   "metadata": {},
   "source": [
    "## 2. Dataset\n",
    "We use a self-created dataset, simulating student survey responses with features including:\n",
    "- `lack_of_motivation`\n",
    "- `poor_time_management`\n",
    "- `fear_of_failure`\n",
    "- `perfectionism`\n",
    "- `distractions`\n",
    "- `procrastination_level` (target)\n"
   ]
  },
  {
   "cell_type": "markdown",
   "id": "d6fcf1a4",
   "metadata": {},
   "source": [
    "### Dataset Feature Description\n",
    "| Column Name           | Description                                | Type       |\n",
    "|-----------------------|--------------------------------------------|------------|\n",
    "| `lack_of_motivation`  | Whether student lacks motivation (1/0)     | Binary     |\n",
    "| `poor_time_management`| Time management issues (1/0)               | Binary     |\n",
    "| `fear_of_failure`     | Anxiety about failing (1/0)                | Binary     |\n",
    "| `perfectionism`       | Perfectionist tendencies (1/0)             | Binary     |\n",
    "| `distractions`        | Prone to distractions (1/0)                | Binary     |\n",
    "| `procrastination_level` | Procrastination level (Low, Medium, High) | Categorical |"
   ]
  },
  {
   "cell_type": "markdown",
   "id": "7ded34ff",
   "metadata": {},
   "source": [
    "## 3. Methodology\n",
    "We use a Random Forest Classifier to model the likelihood of procrastination based on the other features. Below are steps involved:\n",
    "- Data preprocessing (scaling, encoding)\n",
    "- Train/test split\n",
    "- Model training and evaluation\n",
    "- Feature importance analysis\n",
    "- Exploratory data visualization"
   ]
  },
  {
   "cell_type": "markdown",
   "id": "2a21414c",
   "metadata": {},
   "source": [
    "## 4. Results\n",
    "Below is the model performance summary and feature importance analysis."
   ]
  },
  {
   "cell_type": "markdown",
   "id": "8b17ecc8",
   "metadata": {},
   "source": [
    "### Model Performance Summary\n",
    "| Metric     | Score (example) |\n",
    "|------------|-----------------|\n",
    "| Accuracy   | 85%             |\n",
    "| Precision  | 88%             |\n",
    "| Recall     | 83%             |\n",
    "| F1-Score   | 84%             |"
   ]
  },
  {
   "cell_type": "markdown",
   "id": "f241a086",
   "metadata": {},
   "source": [
    "## 5. Discussion & Suggestions\n",
    "Key drivers of procrastination were `lack_of_motivation`, `distractions`, and `poor_time_management`. These align with common psychological and behavioral challenges students face.\n",
    "\n",
    "### Future Improvements\n",
    "- Use a larger real-world dataset\n",
    "- Include GPA, digital distraction metrics, or social habits\n",
    "- Experiment with logistic regression or neural networks"
   ]
  },
  {
   "cell_type": "markdown",
   "id": "85f7ad5f",
   "metadata": {},
   "source": [
    "## 6. Reflection\n",
    "This project helped me explore the relationship between psychological and environmental factors contributing to student procrastination. It also gave me hands-on experience with data preprocessing, classification modeling, and interpreting results using Python."
   ]
  },
  {
   "cell_type": "markdown",
   "id": "9344c384",
   "metadata": {},
   "source": [
    "## 7. References\n",
    "- [IMRAD Format - Wikipedia](https://en.wikipedia.org/wiki/IMRAD)\n",
    "- Scikit-learn Documentation\n",
    "- Google Colab"
   ]
  },
  {
   "cell_type": "code",
   "execution_count": null,
   "id": "20d23f99",
   "metadata": {},
   "outputs": [],
   "source": [
    "import pandas as pd\n",
    "import matplotlib.pyplot as plt\n",
    "import seaborn as sns\n",
    "\n",
    "from sklearn.model_selection import train_test_split\n",
    "from sklearn.preprocessing import LabelEncoder, StandardScaler\n",
    "from sklearn.ensemble import RandomForestClassifier\n",
    "from sklearn.metrics import classification_report, confusion_matrix\n",
    "\n",
    "dataset = pd.read_csv('Stu_pro_Level.csv')\n",
    "\n",
    "\n",
    "le = LabelEncoder()\n",
    "dataset['procrastination_level'] = le.fit_transform(dataset['procrastination_level'])\n",
    "\n",
    "\n",
    "sns.countplot(x='procrastination_level', data=dataset)\n",
    "plt.title('Distribution of Procrastination Levels')\n",
    "plt.show()\n",
    "\n",
    "\n",
    "sns.heatmap(dataset.drop(columns='respondent_id').corr(), annot=True, cmap='coolwarm')\n",
    "plt.title(\"Correlation Heatmap\")\n",
    "plt.show()\n",
    "\n",
    "\n",
    "X = dataset.drop(['procrastination_level', 'respondent_id'], axis=1)\n",
    "y = dataset['procrastination_level']\n",
    "\n",
    "scaler = StandardScaler()\n",
    "X_scaled = scaler.fit_transform(X)\n",
    "\n",
    "\n",
    "X_train, X_test, y_train, y_test = train_test_split(X_scaled, y, test_size=0.2, random_state=42)\n",
    "\n",
    "rf = RandomForestClassifier(n_estimators=100, random_state=42)\n",
    "rf.fit(X_train, y_train)\n",
    "y_pred = rf.predict(X_test)\n",
    "\n",
    "print(\"Classification Report:\")\n",
    "print(classification_report(y_test, y_pred))\n",
    "\n",
    "print(\"Confusion Matrix:\")\n",
    "cm = confusion_matrix(y_test, y_pred)\n",
    "sns.heatmap(cm, annot=True, fmt='d', cmap='Blues')\n",
    "plt.title(\"Confusion Matrix\")\n",
    "plt.xlabel(\"Predicted\")\n",
    "plt.ylabel(\"Actual\")\n",
    "plt.show()\n",
    "\n",
    "\n",
    "feat_importance = rf.feature_importances_\n",
    "features = X.columns\n",
    "\n",
    "plt.figure(figsize=(10, 6))\n",
    "sns.barplot(x=feat_importance, y=features)\n",
    "plt.title(\"Feature Importance\")\n",
    "plt.xlabel(\"Importance Score\")\n",
    "plt.ylabel(\"Features\")\n",
    "plt.tight_layout()\n",
    "plt.show()\n"
   ]
  }
 ],
 "metadata": {
  "language_info": {
   "name": "python"
  }
 },
 "nbformat": 4,
 "nbformat_minor": 5
}
